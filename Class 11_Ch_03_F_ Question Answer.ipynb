{
 "cells": [
  {
   "cell_type": "markdown",
   "metadata": {},
   "source": [
    "## Knowledge Check"
   ]
  },
  {
   "cell_type": "markdown",
   "metadata": {},
   "source": [
    "#### When was Python released?"
   ]
  },
  {
   "cell_type": "markdown",
   "metadata": {},
   "source": [
    "Python was released in February 1991."
   ]
  },
  {
   "cell_type": "markdown",
   "metadata": {},
   "source": [
    "#### Who developed Python?"
   ]
  },
  {
   "cell_type": "markdown",
   "metadata": {},
   "source": [
    "Python was developed by Guido Van Rossum."
   ]
  },
  {
   "cell_type": "markdown",
   "metadata": {},
   "source": [
    "#### Is Python an Object Oriented Language?"
   ]
  },
  {
   "cell_type": "markdown",
   "metadata": {},
   "source": [
    "Yes, Python is an object oriented language."
   ]
  },
  {
   "cell_type": "markdown",
   "metadata": {},
   "source": [
    "#### Python is an interpreted language‟. What does it mean to you?\n"
   ]
  },
  {
   "cell_type": "markdown",
   "metadata": {},
   "source": [
    "It means that the Python installation interprets and executes the code line by line at a time."
   ]
  },
  {
   "cell_type": "markdown",
   "metadata": {},
   "source": [
    "#### In how many ways, can you work in Python?"
   ]
  },
  {
   "cell_type": "markdown",
   "metadata": {},
   "source": [
    "In two ways we can work in Python-\n",
    "\n",
    "(i) Interactive mode\n",
    "\n",
    "(ii) Script Mode"
   ]
  },
  {
   "cell_type": "markdown",
   "metadata": {},
   "source": [
    "#### What is the difference between Interactive mode and Script Mode in Python?\n"
   ]
  },
  {
   "cell_type": "markdown",
   "metadata": {},
   "source": [
    "In interactive mode, one command can run at a time and commands are not saved. Whereas in Script \n",
    "mode, we can save all the commands in the form of a program file and can see output of all lines together."
   ]
  },
  {
   "cell_type": "markdown",
   "metadata": {},
   "source": [
    "#### Which of the following are not valid strings in Python?\n",
    "\n",
    "(a) \"Hello\"  (b) 'Hello' (c) \"Hello‘ (d) 'Hello\" (e) {Hello}\n"
   ]
  },
  {
   "cell_type": "markdown",
   "metadata": {},
   "source": [
    "#### what will the following code do: a=b=18 ?\n",
    "    "
   ]
  },
  {
   "cell_type": "markdown",
   "metadata": {},
   "source": [
    "This code will assign 18 to a and b both. "
   ]
  },
  {
   "cell_type": "code",
   "execution_count": null,
   "metadata": {},
   "outputs": [],
   "source": [
    "Following code is creating problem X = 0281, find reason.\n"
   ]
  },
  {
   "cell_type": "code",
   "execution_count": 3,
   "metadata": {},
   "outputs": [
    {
     "ename": "SyntaxError",
     "evalue": "invalid token (<ipython-input-3-712627968349>, line 1)",
     "output_type": "error",
     "traceback": [
      "\u001b[1;36m  File \u001b[1;32m\"<ipython-input-3-712627968349>\"\u001b[1;36m, line \u001b[1;32m1\u001b[0m\n\u001b[1;33m    X = 0281\u001b[0m\n\u001b[1;37m           ^\u001b[0m\n\u001b[1;31mSyntaxError\u001b[0m\u001b[1;31m:\u001b[0m invalid token\n"
     ]
    }
   ],
   "source": [
    "X = 0281print( a And b)\n"
   ]
  },
  {
   "cell_type": "markdown",
   "metadata": {},
   "source": [
    "#### Find the error in the following code:"
   ]
  },
  {
   "cell_type": "markdown",
   "metadata": {},
   "source": [
    "(a) temp=90 \n",
    "print temp"
   ]
  },
  {
   "cell_type": "raw",
   "metadata": {},
   "source": [
    "(b) a=12 \n",
    "b = a + b\n",
    "print( a And b)\n"
   ]
  },
  {
   "cell_type": "raw",
   "metadata": {},
   "source": [
    "(c) print(“x=”x) \n"
   ]
  },
  {
   "cell_type": "code",
   "execution_count": 2,
   "metadata": {
    "scrolled": true
   },
   "outputs": [
    {
     "name": "stdout",
     "output_type": "stream",
     "text": [
      "2 8 4\n",
      "4 8 2\n"
     ]
    }
   ],
   "source": [
    "a, b, c=2, 8, 4 \n",
    "print(a, b, c)\n",
    "c, b, a = a, b, c\n",
    "print(a, b, c)\n",
    "\n"
   ]
  },
  {
   "cell_type": "code",
   "execution_count": null,
   "metadata": {},
   "outputs": [],
   "source": []
  },
  {
   "cell_type": "raw",
   "metadata": {},
   "source": [
    "(e) x = 23 \n",
    "4 = x\n"
   ]
  },
  {
   "cell_type": "raw",
   "metadata": {},
   "source": [
    "(f) else = 21-4"
   ]
  },
  {
   "cell_type": "markdown",
   "metadata": {},
   "source": [
    "#### Find the error in the following code:"
   ]
  },
  {
   "cell_type": "raw",
   "metadata": {},
   "source": [
    "y = x +5 \n",
    "print(x,y)"
   ]
  },
  {
   "cell_type": "raw",
   "metadata": {},
   "source": [
    "a=input(“Value: “) \n",
    "b = a/2\n",
    "print( a, b)"
   ]
  },
  {
   "cell_type": "raw",
   "metadata": {},
   "source": [
    "print(x = y = 5) "
   ]
  },
  {
   "cell_type": "markdown",
   "metadata": {},
   "source": [
    "### What is the difference between a keyword and an identifier?"
   ]
  },
  {
   "cell_type": "markdown",
   "metadata": {},
   "source": [
    "#### Difference between Keyword and Identifier: \n",
    "\n",
    "Every language has keywords and identifiers, \n",
    "which are only understood by its compiler. Keywords are predefined reserved words, which \n",
    "possess special meaning. An identifier is a unique name given to a particular variable, function \n",
    "or label of class in the program.\n"
   ]
  },
  {
   "cell_type": "markdown",
   "metadata": {},
   "source": [
    "#### What factors guide the choice of identifiers in program?"
   ]
  },
  {
   "cell_type": "raw",
   "metadata": {},
   "source": [
    "(i) An identifier must start with a letter or underscore followed by any number of digits \n",
    "and/or letters.\n",
    "(ii) No reserved word or standard identifier should be used.\n",
    "(iii) No special character (Other than underscore) should be included in the identifier. "
   ]
  },
  {
   "cell_type": "markdown",
   "metadata": {},
   "source": [
    "#### What is the difference between an expression and a statement in Python?"
   ]
  },
  {
   "cell_type": "raw",
   "metadata": {},
   "source": [
    "A statement is an instruction that the Python interpreter can execute. We have only seen the \n",
    "assignment statement so far. Some other kinds of statements that we‘ll see shortly \n",
    "are while statements, forstatements, if statements, and import statements. (There are other \n",
    "kinds too!)\n",
    "An expression is a combination of values, variables, operators, and calls to functions. \n",
    "Expressions need to be evaluated. If you ask Python to print an expression, the \n",
    "interpreter evaluates the expression and displays the result.\n"
   ]
  },
  {
   "cell_type": "markdown",
   "metadata": {},
   "source": [
    "#### What are tokens in Python? How many types of tokens allowed in Python?"
   ]
  },
  {
   "cell_type": "raw",
   "metadata": {},
   "source": [
    "Tokens are the smallest unit of the program. There are following tokens in Python:\n",
    " Reserved words or Keywords\n",
    " Identifiers\n",
    " Literals Definition of all tokens may come. Which is not given \n",
    " Operators in this question bank.\n",
    " Punctuators\n"
   ]
  },
  {
   "cell_type": "markdown",
   "metadata": {},
   "source": [
    "#### What are operators? What is their function? Give examples of some unary and binary operators. \n"
   ]
  },
  {
   "cell_type": "raw",
   "metadata": {},
   "source": [
    "Operators are those symbols used with operands, which tells compiler which operation is to be \n",
    "done on operands.‖ in other words – ―operators are tokens that trigger some \n",
    "computation/action when applied to variables and other objects in an expression."
   ]
  },
  {
   "cell_type": "markdown",
   "metadata": {},
   "source": [
    "#### What is the role of indentation in Python?"
   ]
  },
  {
   "cell_type": "raw",
   "metadata": {},
   "source": [
    "Indentation plays a very important role in Python. Python uses indentation to create blocks of \n",
    "code. Statements at same indentation level are part of same block/suit. You cannot \n",
    "unnecessarily indent a statement; python will raise an error for that."
   ]
  },
  {
   "cell_type": "markdown",
   "metadata": {},
   "source": [
    "#### Which of the following are syntactically correct strings? State reason.\n"
   ]
  },
  {
   "cell_type": "raw",
   "metadata": {},
   "source": [
    "(a) ”Python is nice Language”\n",
    "(b) „He called me “Friend!” when he came‟\n",
    "(c) “Very Good‟\n",
    "(d) „This is a good book‟\n",
    "(e) “Namaste\n",
    "(f) “I liked „Harry Potter‟ very much”"
   ]
  },
  {
   "cell_type": "markdown",
   "metadata": {},
   "source": [
    "#### What is the error in following Python program with one statement?\n",
    "\n",
    "print(“My name is : “, name)\n"
   ]
  },
  {
   "cell_type": "markdown",
   "metadata": {},
   "source": [
    "#### Predict output:\n",
    "\n"
   ]
  },
  {
   "cell_type": "raw",
   "metadata": {},
   "source": [
    "a,b,c = 2,3,4\n",
    "a,b,c = a*a , b*b , c*c\n",
    "print(a,b,c)"
   ]
  },
  {
   "cell_type": "code",
   "execution_count": null,
   "metadata": {},
   "outputs": [],
   "source": []
  },
  {
   "cell_type": "code",
   "execution_count": null,
   "metadata": {},
   "outputs": [],
   "source": []
  }
 ],
 "metadata": {
  "kernelspec": {
   "display_name": "Python 3 (ipykernel)",
   "language": "python",
   "name": "python3"
  },
  "language_info": {
   "codemirror_mode": {
    "name": "ipython",
    "version": 3
   },
   "file_extension": ".py",
   "mimetype": "text/x-python",
   "name": "python",
   "nbconvert_exporter": "python",
   "pygments_lexer": "ipython3",
   "version": "3.9.7"
  }
 },
 "nbformat": 4,
 "nbformat_minor": 2
}
