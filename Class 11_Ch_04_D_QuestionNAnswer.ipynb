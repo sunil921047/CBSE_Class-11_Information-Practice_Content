{
 "cells": [
  {
   "cell_type": "markdown",
   "id": "a44c352b",
   "metadata": {},
   "source": [
    "# Question and Answers"
   ]
  },
  {
   "cell_type": "code",
   "execution_count": 5,
   "id": "18defd0d",
   "metadata": {},
   "outputs": [],
   "source": [
    "import pandas as pd\n",
    "name_list =  ['Sunil', 'Anil', 'Vivek']"
   ]
  },
  {
   "cell_type": "code",
   "execution_count": 6,
   "id": "f4af71a7",
   "metadata": {},
   "outputs": [
    {
     "data": {
      "text/html": [
       "<div>\n",
       "<style scoped>\n",
       "    .dataframe tbody tr th:only-of-type {\n",
       "        vertical-align: middle;\n",
       "    }\n",
       "\n",
       "    .dataframe tbody tr th {\n",
       "        vertical-align: top;\n",
       "    }\n",
       "\n",
       "    .dataframe thead th {\n",
       "        text-align: right;\n",
       "    }\n",
       "</style>\n",
       "<table border=\"1\" class=\"dataframe\">\n",
       "  <thead>\n",
       "    <tr style=\"text-align: right;\">\n",
       "      <th></th>\n",
       "      <th>Name</th>\n",
       "      <th>Subject</th>\n",
       "    </tr>\n",
       "  </thead>\n",
       "  <tbody>\n",
       "    <tr>\n",
       "      <th>0</th>\n",
       "      <td>Sunil</td>\n",
       "      <td>Hindi</td>\n",
       "    </tr>\n",
       "    <tr>\n",
       "      <th>1</th>\n",
       "      <td>Anil</td>\n",
       "      <td>Eng</td>\n",
       "    </tr>\n",
       "    <tr>\n",
       "      <th>2</th>\n",
       "      <td>Vivek</td>\n",
       "      <td>Math</td>\n",
       "    </tr>\n",
       "  </tbody>\n",
       "</table>\n",
       "</div>"
      ],
      "text/plain": [
       "    Name Subject\n",
       "0  Sunil   Hindi\n",
       "1   Anil     Eng\n",
       "2  Vivek    Math"
      ]
     },
     "execution_count": 6,
     "metadata": {},
     "output_type": "execute_result"
    }
   ],
   "source": [
    "df = pd.DataFrame({'Name' :  name_list,\n",
    "                   'Subject' : ['Hindi', 'Eng' , 'Math']\n",
    "                  })\n",
    "df"
   ]
  },
  {
   "cell_type": "code",
   "execution_count": 7,
   "id": "993662d1",
   "metadata": {},
   "outputs": [
    {
     "data": {
      "text/plain": [
       "{'Mohan': 95, 'Ram': 89, 'Suhel': 92, 'Sangeeta': 85}"
      ]
     },
     "execution_count": 7,
     "metadata": {},
     "output_type": "execute_result"
    }
   ],
   "source": [
    "dict3 = {'Mohan':95,'Ram':89,'Suhel':92,'Sangeeta':85}\n",
    "dict3"
   ]
  },
  {
   "cell_type": "code",
   "execution_count": 9,
   "id": "21968555",
   "metadata": {},
   "outputs": [
    {
     "data": {
      "text/plain": [
       "89"
      ]
     },
     "execution_count": 9,
     "metadata": {},
     "output_type": "execute_result"
    }
   ],
   "source": [
    "dict3['Ram']"
   ]
  },
  {
   "cell_type": "code",
   "execution_count": 15,
   "id": "e39e4bf2",
   "metadata": {},
   "outputs": [
    {
     "data": {
      "text/plain": [
       "['Sunil', 'Anil', 'Vivek']"
      ]
     },
     "execution_count": 15,
     "metadata": {},
     "output_type": "execute_result"
    }
   ],
   "source": [
    "dict4= {'Name' :  name_list,\n",
    "                   'Subject' : ['Hindi', 'Eng' , 'Math']\n",
    "                  }\n",
    "dict4['Name']"
   ]
  },
  {
   "cell_type": "code",
   "execution_count": 18,
   "id": "4ac5bbf4",
   "metadata": {},
   "outputs": [
    {
     "data": {
      "text/plain": [
       "True"
      ]
     },
     "execution_count": 18,
     "metadata": {},
     "output_type": "execute_result"
    }
   ],
   "source": [
    "'Suhel' in dict3"
   ]
  },
  {
   "cell_type": "code",
   "execution_count": 19,
   "id": "47976284",
   "metadata": {},
   "outputs": [],
   "source": [
    "dict3['Sanjeev'] = [1,2,3,4,5,6]"
   ]
  },
  {
   "cell_type": "code",
   "execution_count": 21,
   "id": "e5f62fb2",
   "metadata": {},
   "outputs": [
    {
     "data": {
      "text/plain": [
       "{'Mohan': 95,\n",
       " 'Ram': 89,\n",
       " 'Suhel': 92,\n",
       " 'Sangeeta': 85,\n",
       " 'Sanjeev': [1, 2, 3, 4, 5, 6]}"
      ]
     },
     "execution_count": 21,
     "metadata": {},
     "output_type": "execute_result"
    }
   ],
   "source": [
    "dict3"
   ]
  },
  {
   "cell_type": "code",
   "execution_count": 24,
   "id": "595f2bec",
   "metadata": {},
   "outputs": [],
   "source": [
    "dict3['Suhel']=90"
   ]
  },
  {
   "cell_type": "code",
   "execution_count": 26,
   "id": "68d9b979",
   "metadata": {},
   "outputs": [
    {
     "data": {
      "text/plain": [
       "{'Mohan': 95,\n",
       " 'Ram': 89,\n",
       " 'Suhel': 90,\n",
       " 'Sangeeta': 85,\n",
       " 'Sanjeev': [1, 2, 3, 4, 5, 6]}"
      ]
     },
     "execution_count": 26,
     "metadata": {},
     "output_type": "execute_result"
    }
   ],
   "source": [
    "dict3"
   ]
  },
  {
   "cell_type": "code",
   "execution_count": 27,
   "id": "31ee1d91",
   "metadata": {},
   "outputs": [
    {
     "data": {
      "text/plain": [
       "['Sunil', 'Anil', 'Vivek']"
      ]
     },
     "execution_count": 27,
     "metadata": {},
     "output_type": "execute_result"
    }
   ],
   "source": [
    "dict4= {'Name' :  name_list,\n",
    "                   'Subject' : ['Hindi', 'Eng' , 'Math']\n",
    "                  }\n",
    "dict4['Name']"
   ]
  },
  {
   "cell_type": "code",
   "execution_count": 37,
   "id": "2343e344",
   "metadata": {},
   "outputs": [
    {
     "data": {
      "text/plain": [
       "{'Mohan': 95,\n",
       " 'Ram': 89,\n",
       " 'Suhel': 90,\n",
       " 'Sangeeta': 85,\n",
       " 'Sanjeev': [1, 2, 3, 4, 5, 6]}"
      ]
     },
     "execution_count": 37,
     "metadata": {},
     "output_type": "execute_result"
    }
   ],
   "source": [
    "dict3"
   ]
  },
  {
   "cell_type": "code",
   "execution_count": 40,
   "id": "8cccec3c",
   "metadata": {},
   "outputs": [
    {
     "name": "stdout",
     "output_type": "stream",
     "text": [
      "Mohan 95\n",
      "Ram 89\n",
      "Suhel 90\n",
      "Sangeeta 85\n",
      "Sanjeev [1, 2, 3, 4, 5, 6]\n"
     ]
    }
   ],
   "source": [
    "for k in dict3:\n",
    "    print(k, dict3[k])"
   ]
  },
  {
   "cell_type": "code",
   "execution_count": 48,
   "id": "3b94f442",
   "metadata": {},
   "outputs": [
    {
     "name": "stdout",
     "output_type": "stream",
     "text": [
      "Value of given Key :  Mohan  is  95\n",
      "Value of given Key :  Ram  is  89\n",
      "Value of given Key :  Suhel  is  90\n",
      "Value of given Key :  Sangeeta  is  85\n",
      "Value of given Key :  Sanjeev  is  [1, 2, 3, 4, 5, 6]\n"
     ]
    }
   ],
   "source": [
    "for k , v in dict3.items():\n",
    "    print( 'Value of given Key : ' , k ,  ' is ', v)"
   ]
  },
  {
   "cell_type": "code",
   "execution_count": 49,
   "id": "703eebc5",
   "metadata": {},
   "outputs": [
    {
     "data": {
      "text/plain": [
       "95"
      ]
     },
     "execution_count": 49,
     "metadata": {},
     "output_type": "execute_result"
    }
   ],
   "source": [
    "dict3['Mohan']"
   ]
  },
  {
   "cell_type": "code",
   "execution_count": 53,
   "id": "25cdc1b1",
   "metadata": {},
   "outputs": [],
   "source": [
    "list1 = [1,2,3,4,4,4,4,4,4]"
   ]
  },
  {
   "cell_type": "code",
   "execution_count": 57,
   "id": "b81f95ca",
   "metadata": {},
   "outputs": [
    {
     "data": {
      "text/plain": [
       "set"
      ]
     },
     "execution_count": 57,
     "metadata": {},
     "output_type": "execute_result"
    }
   ],
   "source": [
    "set1 = set(list1)\n",
    "type(set1)"
   ]
  },
  {
   "cell_type": "code",
   "execution_count": 58,
   "id": "f72c9b1a",
   "metadata": {},
   "outputs": [
    {
     "data": {
      "text/plain": [
       "dict_keys(['Mohan', 'Ram', 'Suhel', 'Sangeeta', 'Sanjeev'])"
      ]
     },
     "execution_count": 58,
     "metadata": {},
     "output_type": "execute_result"
    }
   ],
   "source": [
    "dict3.keys()"
   ]
  },
  {
   "cell_type": "code",
   "execution_count": 60,
   "id": "eba8b5a1",
   "metadata": {},
   "outputs": [
    {
     "data": {
      "text/plain": [
       "dict_values([95, 89, 90, 85, [1, 2, 3, 4, 5, 6]])"
      ]
     },
     "execution_count": 60,
     "metadata": {},
     "output_type": "execute_result"
    }
   ],
   "source": [
    "dict3.values()"
   ]
  },
  {
   "cell_type": "code",
   "execution_count": 61,
   "id": "e36c616b",
   "metadata": {},
   "outputs": [
    {
     "data": {
      "text/plain": [
       "{'Mohan': 95,\n",
       " 'Ram': 89,\n",
       " 'Suhel': 90,\n",
       " 'Sangeeta': 85,\n",
       " 'Sanjeev': [1, 2, 3, 4, 5, 6]}"
      ]
     },
     "execution_count": 61,
     "metadata": {},
     "output_type": "execute_result"
    }
   ],
   "source": [
    "dict3"
   ]
  },
  {
   "cell_type": "code",
   "execution_count": 63,
   "id": "27078127",
   "metadata": {},
   "outputs": [
    {
     "data": {
      "text/plain": [
       "dict_items([('Mohan', 95), ('Ram', 89), ('Suhel', 90), ('Sangeeta', 85), ('Sanjeev', [1, 2, 3, 4, 5, 6])])"
      ]
     },
     "execution_count": 63,
     "metadata": {},
     "output_type": "execute_result"
    }
   ],
   "source": [
    "dict3.items()"
   ]
  },
  {
   "cell_type": "code",
   "execution_count": 64,
   "id": "0ba2b93f",
   "metadata": {},
   "outputs": [
    {
     "data": {
      "text/plain": [
       "89"
      ]
     },
     "execution_count": 64,
     "metadata": {},
     "output_type": "execute_result"
    }
   ],
   "source": [
    "dict3.get('Ram')"
   ]
  },
  {
   "cell_type": "code",
   "execution_count": 66,
   "id": "0600212e",
   "metadata": {},
   "outputs": [
    {
     "data": {
      "text/plain": [
       "89"
      ]
     },
     "execution_count": 66,
     "metadata": {},
     "output_type": "execute_result"
    }
   ],
   "source": [
    "dict3['Ram']"
   ]
  },
  {
   "cell_type": "code",
   "execution_count": null,
   "id": "9083843c",
   "metadata": {},
   "outputs": [],
   "source": [
    "dict1 = {'Mohan':95, 'Ram':89,\n",
    "'Suhel':92, 'Sangeeta':85}\n",
    ">>> dict2 = {'Sohan':79,'Geeta':89}\n",
    ">>> dict1.update(dict2)\n",
    ">>> dict1\n",
    "{'Mohan': 95, 'Ram': 89, 'Suhel': 92,\n",
    "'Sangeeta': 85, 'Sohan': 79, 'Geeta': 89}\n",
    ">>> dict2\n",
    "{'Sohan': 79, 'Geeta': 89}"
   ]
  },
  {
   "cell_type": "code",
   "execution_count": 78,
   "id": "f231fc83",
   "metadata": {},
   "outputs": [],
   "source": [
    "dict1 = {'Mohan':95, 'Ram':89,\n",
    "'Suhel':92, 'Sangeeta':85}"
   ]
  },
  {
   "cell_type": "code",
   "execution_count": 79,
   "id": "90df5953",
   "metadata": {},
   "outputs": [],
   "source": [
    " dict2 = {'Sohan':79,'Geeta':89}"
   ]
  },
  {
   "cell_type": "code",
   "execution_count": 80,
   "id": "e4a4f9ff",
   "metadata": {},
   "outputs": [],
   "source": [
    "dict1.update(dict2)"
   ]
  },
  {
   "cell_type": "code",
   "execution_count": 81,
   "id": "497a6c74",
   "metadata": {},
   "outputs": [
    {
     "data": {
      "text/plain": [
       "{'Mohan': 95, 'Ram': 89, 'Suhel': 92, 'Sangeeta': 85, 'Sohan': 79, 'Geeta': 89}"
      ]
     },
     "execution_count": 81,
     "metadata": {},
     "output_type": "execute_result"
    }
   ],
   "source": [
    "dict1"
   ]
  },
  {
   "cell_type": "code",
   "execution_count": 72,
   "id": "2934904c",
   "metadata": {},
   "outputs": [],
   "source": [
    "dict1['Ram'] = 90"
   ]
  },
  {
   "cell_type": "code",
   "execution_count": 73,
   "id": "5ae60193",
   "metadata": {},
   "outputs": [
    {
     "data": {
      "text/plain": [
       "{'Mohan': 95, 'Ram': 90, 'Suhel': 92, 'Sangeeta': 85, 'Sohan': 79, 'Geeta': 89}"
      ]
     },
     "execution_count": 73,
     "metadata": {},
     "output_type": "execute_result"
    }
   ],
   "source": [
    "dict1"
   ]
  },
  {
   "cell_type": "code",
   "execution_count": 74,
   "id": "b85f2ea0",
   "metadata": {},
   "outputs": [],
   "source": [
    "dict1.clear()"
   ]
  },
  {
   "cell_type": "code",
   "execution_count": 77,
   "id": "f998f255",
   "metadata": {},
   "outputs": [
    {
     "data": {
      "text/plain": [
       "{}"
      ]
     },
     "execution_count": 77,
     "metadata": {},
     "output_type": "execute_result"
    }
   ],
   "source": [
    "dict1"
   ]
  },
  {
   "cell_type": "code",
   "execution_count": 82,
   "id": "7352353b",
   "metadata": {},
   "outputs": [
    {
     "data": {
      "text/plain": [
       "{'Mohan': 95, 'Ram': 89, 'Suhel': 92, 'Sangeeta': 85, 'Sohan': 79, 'Geeta': 89}"
      ]
     },
     "execution_count": 82,
     "metadata": {},
     "output_type": "execute_result"
    }
   ],
   "source": [
    "dict1"
   ]
  },
  {
   "cell_type": "code",
   "execution_count": 83,
   "id": "6e4da6d5",
   "metadata": {},
   "outputs": [],
   "source": [
    "del dict1['Ram']"
   ]
  },
  {
   "cell_type": "code",
   "execution_count": 84,
   "id": "0b02d7b3",
   "metadata": {},
   "outputs": [
    {
     "data": {
      "text/plain": [
       "{'Mohan': 95, 'Suhel': 92, 'Sangeeta': 85, 'Sohan': 79, 'Geeta': 89}"
      ]
     },
     "execution_count": 84,
     "metadata": {},
     "output_type": "execute_result"
    }
   ],
   "source": [
    "dict1"
   ]
  },
  {
   "cell_type": "code",
   "execution_count": 85,
   "id": "d8bc9496",
   "metadata": {},
   "outputs": [],
   "source": [
    "del dict1"
   ]
  },
  {
   "cell_type": "code",
   "execution_count": 86,
   "id": "92dd717d",
   "metadata": {},
   "outputs": [
    {
     "ename": "NameError",
     "evalue": "name 'dict1' is not defined",
     "output_type": "error",
     "traceback": [
      "\u001b[1;31m---------------------------------------------------------------------------\u001b[0m",
      "\u001b[1;31mNameError\u001b[0m                                 Traceback (most recent call last)",
      "\u001b[1;32m~\\AppData\\Local\\Temp/ipykernel_28612/1911420973.py\u001b[0m in \u001b[0;36m<module>\u001b[1;34m\u001b[0m\n\u001b[1;32m----> 1\u001b[1;33m \u001b[0mdict1\u001b[0m\u001b[1;33m\u001b[0m\u001b[1;33m\u001b[0m\u001b[0m\n\u001b[0m",
      "\u001b[1;31mNameError\u001b[0m: name 'dict1' is not defined"
     ]
    }
   ],
   "source": [
    "dict1"
   ]
  },
  {
   "cell_type": "code",
   "execution_count": null,
   "id": "c010e10d",
   "metadata": {},
   "outputs": [],
   "source": []
  },
  {
   "cell_type": "code",
   "execution_count": null,
   "id": "9088f200",
   "metadata": {},
   "outputs": [],
   "source": []
  },
  {
   "cell_type": "raw",
   "id": "17583c01",
   "metadata": {},
   "source": [
    "[1] What will the output of the following statements:\n",
    "\n",
    "a) list1 = [12,32,65,26,80,10]\n",
    "list1.sort()\n",
    "print(list1)\n",
    "\n",
    "Ans.: [10,12,26,32,65,80]\n",
    "\n",
    "Explanation:\n",
    "\n",
    "Line 1: Creation of list with the list object list1 and values 12,32,65,26,80,10\n",
    "\n",
    "Line 2: list1.sort() function sort all values in ascending order.\n",
    "\n",
    "Line3: Finally the list is printed.\n",
    "\n",
    "c) list1 = [1,2,3,4,5,6,7,8,9,10]\n",
    "list1[::-2]\n",
    "list1[:3] + list1[3:]\n",
    "\n",
    "Ans.:\n",
    "\n",
    "[10,8,6,4,2]\n",
    "\n",
    "[1,2,3,4,5,6,7,8,9,10]\n",
    "\n",
    "Explanation:\n",
    "\n",
    "Line2:\n",
    "\n",
    "List is sliced from the reverse and skipping alternate position with -2.\n",
    "\n",
    "Line3:\n",
    "\n",
    "As the first slice return, the first three elements, and the next slice returns all elements except the first 3 elements.\n",
    "\n",
    "b) list1 = [12,32,65,26,80,10]\n",
    "sorted(list1)\n",
    "print(list1)\n",
    "\n",
    "Ans.: [12,32,65,26,80,10]\n",
    "\n",
    "Explanation:\n",
    "\n",
    "Line 1: Creation of list with the list object list1 and values 12,32,65,26,80,10\n",
    "\n",
    "Line 2: sorted(list1) function sort all valuesbut not modify the list.\n",
    "\n",
    "Line3: Print the list1 as it is.\n",
    "\n",
    "d) list1 = [1,2,3,4,5]\n",
    "list1[len(list1)-1]\n",
    "\n",
    "Ans.: 5\n",
    "\n",
    "Explanation:\n",
    "\n",
    "Line2:\n",
    "\n",
    "The len function returns total number of elements from the list. So the len(list1) = 5-1= 4\n",
    "\n",
    "Therefore list1[4] i.e. 5.\n",
    "\n",
    "[2] Consider the following list myList. What will be the elements of myList after each of the following operations?\n",
    "\n",
    "myList = [10,20,30,40]\n",
    "a) myList.append([50,60])\n",
    "b) myList.extend([80,90])\n",
    "a) myList.append([50,60])\n",
    "\n",
    "The append() function adds the given list at the end of the existing list. Therefore the output will be: [10,20,30,40,[50,60]]\n",
    "\n",
    "b) myList.extend([80,90])\n",
    "\n",
    "The extend() function also adds the elements in the existing list, it adds each element individually. Therefore the output will be: [10,20,30,40,[50,60],80,90]\n",
    "\n",
    "[3] What will be the output of the following code segment?\n",
    "\n",
    "myList = [1,2,3,4,5,6,7,8,9,10]\n",
    "for i in range(0,len(myList)):\n",
    "        if i%2 == 0:\n",
    "              print(myList[i])\n",
    "In this code the list is traversed by loop. The loop is started with 0 and continues upto the length of list i.e. 10.\n",
    "\n",
    "Inside loop one if condition given which check the index values divisible by 2. Therefore the indexes are 0,2,4,6, and 8. Consider following table:\n",
    "\n",
    "Index\tValue\n",
    "0\t1\n",
    "1\t2\n",
    "2\t3\n",
    "3\t4\n",
    "4\t5\n",
    "5\t6\n",
    "6\t7\n",
    "7\t8\n",
    "8\t9\n",
    "9\t10\n",
    "So the output will be:\n",
    "\n",
    "1\n",
    "\n",
    "3\n",
    "\n",
    "5\n",
    "\n",
    "7\n",
    "\n",
    "9\n",
    "\n",
    "[4] What will be the output of the following code segment?\n",
    "\n",
    "(a)\n",
    "\n",
    "myList = [1,2,3,4,5,6,7,8,9,10]\n",
    "del myList[3:]\n",
    "print(myList)\n",
    "Ans.: [1,2,3]\n",
    "\n",
    "Explanation: When a number is used in a slice before colon and nothing will be there followed by a colon, it means that the first n number of elements will be accessed from the list. Therefore the output will be [1,2,3].\n",
    "\n",
    "(b)\n",
    "\n",
    "myList = [1,2,3,4,5,6,7,8,9,10]\n",
    "del myList[:5]\n",
    "print(myList)\n",
    "Ans.: [6,7,8,9,10]\n",
    "\n",
    "Explanation: When a number is used in a slice after the colon it means that the last n number of elements will be accessed from the list. Therefore the output will be[6,7,8,9,10].\n",
    "\n",
    "(c)\n",
    "\n",
    "myList = [1,2,3,4,5,6,7,8,9,10]\n",
    "del myList[::2]\n",
    "print(myList)\n",
    "Ans.: [2,4,6,8,10]\n",
    "\n",
    "In slicing whenever two slices are coming it means that the number elements will be skipped and next value will be accessed. As 2 is given in slicing with del keyword. Therefore it will delete the values 1,3,5,7,9. In next statement, the remaining values are printed\n",
    "\n",
    "[5] Differentiate between append() and extend() methods of list.\n",
    "\n",
    "append()\textend()\n",
    "Append add one element to a list at a time.\textend add multiple elements to a list at a time.\n",
    "The multiple values can be added using a list as a parameter but append adds them as a list only.\tIf user adds multiple values in form of list as parameter, it will add separate values.\n",
    "Example\tExample\n",
    "l1=[1,2,3]\n",
    "l1.append([4,5])\n",
    "print(l1)\n",
    "The output will be: [1,2,3,[4,5]]\tl1=[1,2,3]\n",
    "l1.append([4,5])\n",
    "print(l1)\n",
    "The output will be: [1,2,3,4,5]\n",
    "[6] Consider a list:\n",
    "list1 = [6,7,8,9]\n",
    "What is the difference between the following operations on list1:\n",
    "a) list1 * 2\n",
    "b) list1 *= 2\n",
    "c) list1 = list1 * 2\n",
    "\n",
    "a) The * operator treated as a replication operator when the list object is referred to with any numeric value. So here it will replicate the list values. Therefore it returns [6,7,8,9,6,7,8,9]\n",
    "\n",
    "\n",
    "b) It is shorthand operator and as explain earlier it will also produce the similar result like question a).\n",
    "\n",
    "c) It also produce the similar result as the statement is just like similar.\n",
    "\n",
    "[7] The record of a student (Name, Roll No, Marks in five subjects and percentage of marks) is stored in the following list:\n",
    "stRecord = [‘Raman’,’A-36′,[56,98,99,72,69],78.8]\n",
    "\n",
    "Write Python statements to retrieve the following information from the list stRecord.\n",
    "a) Percentage of the student\n",
    "\n",
    "As percentage is given to the end of the list which is at the 3rd index. So the statement will be written in this manner:\n",
    "\n",
    "perc=stRecord[3]\n",
    "print(perc)\n",
    "b) Marks in the fifth subject\n",
    "\n",
    "As the marks are given at 2nd index and it is nested list with 5 subjects. So the marks list index will be 4th. So the statement will be something like this:\n",
    "\n",
    "marks_sub5 = stRecord[2][4]\n",
    "print(marks_sub5)\n",
    "c) Maximum marks of the student\n",
    "\n",
    "As we need to access marks only here and return the maximum value. To do this use max() function:\n",
    "\n",
    "marks_max = max(stRecord[2])\n",
    "print(marks_max)\n",
    "d) Roll No. of the student\n",
    "\n",
    "Access the index directly which is given at 1st index in the list.\n",
    "\n",
    "rno = stRecord[1]\n",
    "print(rno)\n",
    "e) Change the name of the student from ‘Raman’ to ‘Raghav’\n",
    "\n",
    "Access the index directly which is given at 0th index in the list.\n",
    "\n",
    "sname = stRecord[0]\n",
    "print(sname)\n",
    "[8] Consider the following dictionary stateCapital:\n",
    "stateCapital = {“Assam”:”Guwahati”, “Bihar”:”Patna”,”Maharashtra”:”Mumbai”, “Rajasthan”:”Jaipur”}\n",
    "\n",
    "Find the output of the following statements:\n",
    "a) print(stateCapital.get(“Bihar”))\n",
    "\n",
    "\n",
    "The get() method is used to return the value from the dictionary key: value pair. So here the output will be – Patna\n",
    "\n",
    "\n",
    "b) print(stateCapital.keys())\n",
    "\n",
    "The keys() method will return dict_keys object with the list of keys from dictionary. So the output will be – dict_keys([‘Assam’, ‘Bihar’, ‘Maharashtra’, ‘Rajasthan’])\n",
    "\n",
    "\n",
    "c) print(stateCapital.values())\n",
    "\n",
    "The keys() method will return dict_values object with the list of values from dictionary. So the output will be – dict_values([‘Guwahati’, ‘Patna’, ‘Mumbai’, ‘Jaipur’])\n",
    "\n",
    "\n",
    "d) print(stateCapital.items())\n",
    "\n",
    "The items() method will returns the list of key and values in dict_items object. So the output will be – dict_items([(‘Assam’, ‘Guwahati’), (‘Bihar’, ‘Patna’), (‘Maharashtra’, ‘Mumbai’), (‘Rajasthan’, ‘Jaipur’)])\n",
    "\n",
    "\n",
    "e) print(len(stateCapital))\n",
    "\n",
    "It will return the length() of the dictionary. The output will be – 4\n",
    "\n",
    "\n",
    "f) print(“Maharashtra” in stateCapital)\n",
    "\n",
    "This statement will check that Maharashtra is available in dictionary object or not. If it is there it returns True otherwise False. So here it is present in the dictionary. So the output will be – True\n",
    "\n",
    "\n",
    "g) print(stateCapital.get(“Assam”))\n",
    "\n",
    "Refer the answer (a).\n",
    "\n",
    "\n",
    "h) del stateCapital[“Assam”]\n",
    "print(stateCapital)\n",
    "\n",
    "It will delete information related to Assam. and print other keys and values.\n",
    "\n",
    "{‘Bihar’: ‘Patna’, ‘Maharashtra’: ‘Mumbai’, ‘Rajasthan’: ‘Jaipur’}\n",
    "\n",
    "Notes Creating a List\n",
    "\n",
    "Programming Problems – ncert solutions for class 11 ip chapter 4\n",
    "[1] Write a program to find the number of times an element occurs in the list.\n",
    "\n",
    "By using loops\n",
    "\n",
    "l = []\n",
    "n = int(input(\"Enter the no. of elements in the list:\"))\n",
    "cnt=0\n",
    "for i in range(0,n):\n",
    "    lval=int(input(\"Enter the value to add in list:\"))\n",
    "    l.append(lval)\n",
    "search_item=int(input(\"Enter the value to search:\"))\n",
    "for i in range(0,len(l)):\n",
    "    if l[i]==search_item:\n",
    "        cnt+=1\n",
    "print(search_item, \"Found in the list\", cnt, \" times\")\n",
    "With eval\n",
    "\n",
    "lval = eval(input(\"Enter the values for the list:\"))\n",
    "search_item=int(input(\"Enter the value to search:\"))\n",
    "print(search_item, \"Found in the list\", lval.count(search_item), \" times\")\n",
    "[2] Write a program to read a list of n integers (positive as well as negative). Create two new lists, one having all positive numbers and the other having all negative numbers from the given list. Print all three lists.\n",
    "\n",
    "lval = eval(input(\"Enter the values for the list:\"))\n",
    "pl =[]\n",
    "nl =[]\n",
    "for i in range(len(lval)):\n",
    "    if lval[i]>0:\n",
    "        pl.append(lval[i])\n",
    "    elif lval[i]<0:\n",
    "        nl.append(lval[i])\n",
    "print(\"Original List:\", lval)\n",
    "print(\"Poitive List:\", pl)\n",
    "print(\"Negative List:\", nl)\n",
    "[3] Write a program to find the largest and the second-largest elements in a given list of elements.\n",
    "\n",
    "Do yourself.\n",
    "\n",
    "[4] Write a program to read a list of n integers and find their median.\n",
    "Note: The median value of a list of values is the middle one when they are arranged in order. If there are two middle values then take their average.\n",
    "Hint: Use an inbuilt function to sort the list.\n",
    "\n",
    "import statistics as s\n",
    "lval = eval(input(\"Enter the values for the list:\"))\n",
    "m = s.median(lval)\n",
    "print(\"The median value is:\",m)\n",
    "l = eval(input(\"Enter the values:\"))\n",
    "l.sort()\n",
    "len1 =len(l)\n",
    "mv = len1//2\n",
    "if len1%2 ==0:\n",
    "    m1, m2 = mv-1, mv\n",
    "    md = (l[m1]+l[m2])/2\n",
    "else:\n",
    "    md=l[mv]\n",
    "print(\"The median value is:\",md)\n",
    "[5] Write a program to read a list of elements. Modify this list so that it does not contain any duplicate elements i.e. all elements occurring multiple times in the list should appear only once.\n",
    "\n",
    "l = eval(input(\"Enter the values:\"))\n",
    "temp=[]\n",
    "for i in l:\n",
    "    if i not in temp:\n",
    "        temp.append(i)\n",
    "l=list(temp)\n",
    "print(\"List after removing duplicate elements:\",l)\n",
    "[6] Write a program to create a list of elements. Input an element from the user that has to be inserted in the list. Also input the position at which it is to be inserted.\n",
    "\n",
    "l = [1,2,3]\n",
    "list_value=int(input(\"Enter the value to insert:\"))\n",
    "p=int(input(\"Enter the position\"))\n",
    "idx = p - 1\n",
    "l.insert(idx,list_value)\n",
    "print(l)\n",
    "[7] Write a program to read elements of a list and do the following.\n",
    "a) The program should ask for the position of the element to be deleted from the list and delete the element at the desired position in the list.\n",
    "b) The program should ask for the value of the element to be deleted from the list and delete this value from the list.\n",
    "\n",
    "a) Delete By element position\n",
    "\n",
    "l = [1,2,3]\n",
    "p=int(input(\"Enter the position to delete:\"))\n",
    "l.pop(p)\n",
    "print(l)\n",
    "b) Delete by value\n",
    "\n",
    "l = [1,2,3]\n",
    "value=int(input(\"Enter the position to delete:\"))\n",
    "l.remove(value)\n",
    "print(l)\n",
    "[8] Write a Python program to find the highest 2 values in a dictionary.\n",
    "\n",
    "d = {11:22,33:46,45:76}\n",
    "s = sorted(d.values())\n",
    "print(s[-1],s[-2])\n",
    "[9] Write a Python program to create a dictionary from a string ‘w3resource’ such that each individual character mates a key and its index value for fist occurrence males the corresponding value in the dictionary.\n",
    "Expected output : {‘3’: 1, ‘s’: 4, ‘r’: 2, ‘u’: 6, ‘w’: 0, ‘c’: 8, ‘e’: 3, ‘o’: 5}"
   ]
  },
  {
   "cell_type": "code",
   "execution_count": null,
   "id": "773ccdab",
   "metadata": {},
   "outputs": [],
   "source": []
  },
  {
   "cell_type": "raw",
   "id": "783b4730",
   "metadata": {},
   "source": []
  }
 ],
 "metadata": {
  "kernelspec": {
   "display_name": "Python 3 (ipykernel)",
   "language": "python",
   "name": "python3"
  },
  "language_info": {
   "codemirror_mode": {
    "name": "ipython",
    "version": 3
   },
   "file_extension": ".py",
   "mimetype": "text/x-python",
   "name": "python",
   "nbconvert_exporter": "python",
   "pygments_lexer": "ipython3",
   "version": "3.9.7"
  }
 },
 "nbformat": 4,
 "nbformat_minor": 5
}
